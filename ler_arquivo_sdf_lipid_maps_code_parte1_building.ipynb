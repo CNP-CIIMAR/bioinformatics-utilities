{
 "cells": [
  {
   "cell_type": "code",
   "execution_count": null,
   "id": "d05db721",
   "metadata": {},
   "outputs": [
    {
     "ename": "OSError",
     "evalue": "File error: Bad input file C:/Users/matto/Desktop/find_fatty_acids_NP/structures.sdf",
     "output_type": "error",
     "traceback": [
      "\u001b[1;31m---------------------------------------------------------------------------\u001b[0m",
      "\u001b[1;31mOSError\u001b[0m                                   Traceback (most recent call last)",
      "\u001b[1;32m~\\AppData\\Local\\Temp\\ipykernel_20152\\4058757312.py\u001b[0m in \u001b[0;36m<module>\u001b[1;34m\u001b[0m\n\u001b[0;32m     10\u001b[0m \u001b[1;33m\u001b[0m\u001b[0m\n\u001b[0;32m     11\u001b[0m \u001b[1;31m# Read the input SDF file\u001b[0m\u001b[1;33m\u001b[0m\u001b[1;33m\u001b[0m\u001b[0m\n\u001b[1;32m---> 12\u001b[1;33m \u001b[0msuppl\u001b[0m \u001b[1;33m=\u001b[0m \u001b[0mChem\u001b[0m\u001b[1;33m.\u001b[0m\u001b[0mSDMolSupplier\u001b[0m\u001b[1;33m(\u001b[0m\u001b[0minput_file\u001b[0m\u001b[1;33m)\u001b[0m\u001b[1;33m\u001b[0m\u001b[1;33m\u001b[0m\u001b[0m\n\u001b[0m\u001b[0;32m     13\u001b[0m \u001b[1;33m\u001b[0m\u001b[0m\n\u001b[0;32m     14\u001b[0m \u001b[1;31m# Create a new SDF writer for the output file\u001b[0m\u001b[1;33m\u001b[0m\u001b[1;33m\u001b[0m\u001b[0m\n",
      "\u001b[1;31mOSError\u001b[0m: File error: Bad input file C:/Users/matto/Desktop/find_fatty_acids_NP/structures.sdf"
     ]
    }
   ],
   "source": [
    "from rdkit import Chem\n",
    "from rdkit.Chem.Draw import MolsToGridImage\n",
    "import pandas as pd\n",
    "\n",
    "from rdkit import Chem\n",
    "import pandas as pd\n",
    "\n",
    "input_file = 'C:/Users/matto/Desktop/find_fatty_acids_NP/structures.sdf'\n",
    "output_file = 'C:/Users/matto/Desktop/find_fatty_acids_NP/structuresv2.sdf'\n",
    "\n",
    "# Read the input SDF file\n",
    "suppl = Chem.SDMolSupplier(input_file)\n",
    "\n",
    "# Create a new SDF writer for the output file\n",
    "writer = Chem.SDWriter(output_file)\n",
    "\n",
    "# Loop over each molecule in the input file\n",
    "for mol in suppl:\n",
    "    # Check if the molecule is valid\n",
    "    if mol is not None:\n",
    "        try:\n",
    "            Chem.SanitizeMol(mol)\n",
    "            # Write the valid molecule to the output file\n",
    "            writer.write(mol)\n",
    "        except ValueError:\n",
    "            # Ignore the molecule if it has an explicit valence error\n",
    "            print(f\"Ignoring molecule with explicit valence error: {mol.GetProp('_Name')}\")\n",
    "            continue\n",
    "\n",
    "import pandas as pd\n",
    "from rdkit import Chem\n",
    "from rdkit.Chem import Draw\n",
    "\n",
    "# Carrega o arquivo SDF\n",
    "suppl = Chem.SDMolSupplier('structures.sdf')\n",
    "\n",
    "# Cria uma lista para armazenar as informações dos ácidos graxos\n",
    "acidos_graxos = []\n",
    "\n",
    "# Define o padrão SMARTS para ácidos graxos\n",
    "padrao = Chem.MolFromSmarts('[#6](-[#6])[-;!R;!$([#6]=*)](-[#6])[-;!R;!$([#6]=*)](-[#6])[-;!R;!$([#6]=*)](-[#6])[-;!R;!$([#6]=*)](-[#6])[-;!R;!$([#6]=*)]')\n",
    "\n",
    "# Itera sobre as moléculas contidas no arquivo SDF\n",
    "for mol in suppl:\n",
    "    if mol is not None:\n",
    "        # Verifica se a molécula contém um ácido graxo\n",
    "        if mol.HasSubstructMatch(padrao):\n",
    "            # Extrai as informações do ácido graxo\n",
    "            nome = mol.GetProp('_Name')\n",
    "            formula_estrutural = Chem.MolToSmiles(mol)\n",
    "            formula_smiles = Chem.MolToSmiles(mol, isomericSmiles=True)\n",
    "            tamanho_cadeia = max([len(cadeia) for cadeia in Chem.rdmolops.GetMolFrags(mol) if all(atom.GetSymbol() == 'C' for atom in cadeia)]) + 1\n",
    "            \n",
    "            # Adiciona as informações do ácido graxo à lista\n",
    "            acidos_graxos.append({'Nome': nome, 'Fórmula Estrutural': formula_estrutural, 'Fórmula SMILES': formula_smiles, 'Tamanho da Cadeia': tamanho_cadeia})\n",
    "\n",
    "# Cria um DataFrame com as informações dos ácidos graxos\n",
    "df = pd.DataFrame(acidos_graxos)\n",
    "\n",
    "# Imprime o DataFrame na tela\n",
    "print(df)\n",
    "\n",
    "# Desenha as moléculas dos ácidos graxos e salva em um arquivo .png\n",
    "for i, mol in enumerate(suppl):\n",
    "    if mol is not None:\n",
    "        # Verifica se a molécula contém um ácido graxo\n",
    "        if mol.HasSubstructMatch(padrao):\n",
    "            # Extrai o nome do ácido graxo\n",
    "            nome = mol.GetProp('_Name')\n",
    "            \n",
    "            # Define o tamanho da imagem\n",
    "            Draw.MolToFile(mol, f'{nome} (Tamanho da Cadeia = {df.iloc[i][\"Tamanho da Cadeia\"]}).png', size=(500, 500), legend=nome)\n",
    "            \n",
    "            # Imprime a molécula na tela\n",
    "            Draw.MolToImage(mol, size=(500, 500)).show()"
   ]
  },
  {
   "cell_type": "code",
   "execution_count": null,
   "id": "fbd4c935",
   "metadata": {},
   "outputs": [],
   "source": []
  },
  {
   "cell_type": "code",
   "execution_count": null,
   "id": "ae689c46-3c0b-4364-9bef-1d1e246e66a1",
   "metadata": {},
   "outputs": [],
   "source": []
  },
  {
   "cell_type": "code",
   "execution_count": null,
   "id": "be2d63a7-2202-4343-9cc4-ac222dfea23d",
   "metadata": {},
   "outputs": [],
   "source": []
  }
 ],
 "metadata": {
  "kernelspec": {
   "display_name": "Python 3 (ipykernel)",
   "language": "python",
   "name": "python3"
  },
  "language_info": {
   "codemirror_mode": {
    "name": "ipython",
    "version": 3
   },
   "file_extension": ".py",
   "mimetype": "text/x-python",
   "name": "python",
   "nbconvert_exporter": "python",
   "pygments_lexer": "ipython3",
   "version": "3.9.13"
  }
 },
 "nbformat": 4,
 "nbformat_minor": 5
}
