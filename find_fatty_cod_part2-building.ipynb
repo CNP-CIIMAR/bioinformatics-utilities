{
 "cells": [
  {
   "cell_type": "code",
   "execution_count": 1,
   "id": "94a66ad6",
   "metadata": {},
   "outputs": [
    {
     "name": "stdout",
     "output_type": "stream",
     "text": [
      "Collecting rdkit\n",
      "  Downloading rdkit-2022.9.5-cp310-cp310-win_amd64.whl (20.5 MB)\n",
      "     --------------------------------------- 20.5/20.5 MB 16.4 MB/s eta 0:00:00\n",
      "Requirement already satisfied: Pillow in c:\\users\\matto\\anaconda\\lib\\site-packages (from rdkit) (9.4.0)\n",
      "Requirement already satisfied: numpy in c:\\users\\matto\\anaconda\\lib\\site-packages (from rdkit) (1.23.5)\n",
      "Installing collected packages: rdkit\n",
      "Successfully installed rdkit-2022.9.5\n",
      "Note: you may need to restart the kernel to use updated packages.\n"
     ]
    }
   ],
   "source": [
    "pip install rdkit\n",
    "pip install --upgrade rdkit"
   ]
  },
  {
   "cell_type": "code",
   "execution_count": 4,
   "id": "40041c25",
   "metadata": {},
   "outputs": [
    {
     "name": "stderr",
     "output_type": "stream",
     "text": [
      "[09:40:37] WARNING: not removing hydrogen atom without neighbors\n",
      "[09:40:40] WARNING: not removing hydrogen atom without neighbors\n"
     ]
    }
   ],
   "source": [
    "#!/usr/bin/env python\n",
    "import pikachu\n",
    "import pandas as pd\n",
    "from rdkit import Chem\n",
    "import rdkit\n",
    "from rdkit.Chem import Descriptors\n",
    "from rdkit.Chem import Draw\n",
    "from rdkit.Chem import AllChem\n",
    "from PIL import Image\n",
    "from IPython.display import display\n",
    "from IPython.display import SVG\n",
    "from rdkit.Chem import Draw\n",
    "import os\n",
    "\n",
    "os.chdir(r'/home/mattoslmp/Chemio_FAAL/')\n",
    "\n",
    "\n",
    "# Ler a tabela de produtos naturais\n",
    "df = pd.read_csv('\\\\wsl.localhost\\Ubuntu-22.04\\home\\mattoslmp\\Chemio_FAAL/NPAtlas_download.tsv',sep='\\t')\n",
    "\n",
    "# Concatenação das colunas genus e origin_species\n",
    "df[\"genus_origin_species\"] = df[\"genus\"] + \" \" + df[\"origin_species\"]\n",
    "\n",
    "\n",
    "# Armazenar o nome e a estrutura química de cada produto natural\n",
    "produtos = []\n",
    "for i in range(len(df)):\n",
    "    species = df.loc[i, 'genus_origin_species']\n",
    "    nome = df.loc[i, 'compound_names']\n",
    "    estrutura = Chem.MolFromSmiles(df.loc[i, 'compound_smiles'])\n",
    "    molfile = Chem.MolToMolBlock(estrutura)\n",
    "    formula = Chem.rdMolDescriptors.CalcMolFormula(estrutura)\n",
    "    produtos.append((nome, estrutura, formula, molfile, species))\n",
    "            \n",
    "for produto in produtos:\n",
    "    nome = produto[0]\n",
    "    estrutura = produto[1]\n",
    "    formula = produto[2]\n",
    "    molfile = produto[3]\n",
    "    species = produto[4]\n",
    "\n",
    "# Definir lista de ácidos graxos\n",
    "fatty_acids = [{'name': 'acético', 'smiles': 'CCCCC(=O)O'},{'name': 'propiônico', 'smiles': 'CCCCCCC(=O)O'},\n",
    "               {'name': 'butírico', 'smiles': 'CCCCCCCCC(=O)O'},{'name': 'valérico', 'smiles': 'CCCCCCCCCCC(=O)O'},\n",
    "               {'name': 'capróico', 'smiles': 'CCCCCCCCCCC(=O)O'}, {'name': 'enântico', 'smiles': 'CCCCCCCCCCCCC(=O)O'},\n",
    "               {'name': 'caprílico', 'smiles': 'CCCCCCCCCCCCC(=O)O'}, {'name': 'pelargônico', 'smiles': 'CCCCCCCCCCCCCC(=O)O'},\n",
    "               {'name': 'láurico', 'smiles': 'CCCCCCCCCCCCCCC(=O)O'}, {'name': 'mirístico', 'smiles': 'CCCCCCCCCCCCCCCC(=O)O'},\n",
    "               {'name': 'palmítico', 'smiles': 'CCCCCCCCCCCCCCCCC(=O)O'},{'name': 'heptadecanóico', 'smiles': 'CCCCCCCCCCCCCCCCCC(=O)O'},\n",
    "               {'name': 'esteárico', 'smiles': 'CCCCCCCCCCCCCCCCCCC(=O)O'}, {'name': 'araquídico', 'smiles': 'CCCCCCCCCCCCCCCCCCCC(=O)O'},\n",
    "               {'name': 'behenico', 'smiles': 'CCCCCCCCCCCCCCCCCCCCC(=O)O'}, \n",
    "               {'name': 'lignocérico', 'smiles': 'CCCCCCCCCCCCCCCCCCCCCCC(=O)O'}, \n",
    "               {'name': 'cerótico', 'smiles': 'CCCCCCCCCCCCCCCCCCCCCCCC(=O)O'},\n",
    "               {'name': 'montânico', 'smiles': 'CCCCCCCCCCCCCCCCCCCCCCCCC(=O)O'},\n",
    "               {'name': 'melíssico', 'smiles': 'CCCCCCCCCCCCCCCCCCCCCCCCCCC(=O)O'}]\n",
    "\n",
    "\n",
    "def search_substructures(fatty_acids, produtos, search_mode='single'):\n",
    "    \"\"\"\n",
    "    Searches for substructures in the structure of natural compounds using RDKit.\n",
    "\n",
    "    Parameters:\n",
    "        fatty_acids (list): A list of SMILES string representations of the fatty acid substructures to search for.\n",
    "        produtos (list): A list of tuples representing the natural products, where each tuple contains the\n",
    "            product name, product structure (as a RDKit molecule object), product formula, product molfile,\n",
    "            and the species of origin.\n",
    "        search_mode (str): The search mode to use. Can be 'single' to find only the first occurrence,\n",
    "            or 'all' to find all occurrences.\n",
    "\n",
    "    Returns:\n",
    "        None.\n",
    "    \"\"\"\n",
    "\n",
    "    for produto in produtos:\n",
    "        estrutura = produto[1]\n",
    "\n",
    "        # Perform the substructure search.\n",
    "        if search_mode == 'single':\n",
    "            for fatty_acid in fatty_acids:\n",
    "                fatty_acid_mol = Chem.MolFromSmiles(fatty_acid['smiles'])\n",
    "                match = estrutura.GetSubstructMatch(fatty_acid_mol)\n",
    "                if match:\n",
    "                    Draw.MolToFile(estrutura, produto[0] + '_highlighted.png', highlightAtoms=match)\n",
    "                    print(fatty_acid['name'], \"is a substructure of\", produto[0])\n",
    "                    break\n",
    "        elif search_mode == 'all':\n",
    "            for fatty_acid in fatty_acids:\n",
    "                fatty_acid_mol = Chem.MolFromSmiles(fatty_acid['smiles'])\n",
    "                matches = estrutura.GetSubstructMatches(fatty_acid_mol)\n",
    "                if matches:\n",
    "                    for match in matches:\n",
    "                        Draw.MolToFile(estrutura, produto[0] + '_highlighted.png', highlightAtoms=match)\n",
    "                    print(fatty_acid['name'], \"is a substructure of\", produto[0])\n",
    "\n",
    "def count_carbons(fatty_acid_mol):\n",
    "    mol = Chem.MolFromSmiles(smiles)\n",
    "    chains = []\n",
    "    for atom in mol.GetAtoms():\n",
    "        if atom.GetSymbol() == 'C':\n",
    "            neighbors = atom.GetNeighbors()\n",
    "            if len(neighbors) == 2 and all(n.GetSymbol() == 'C' for n in neighbors):\n",
    "                chain = Chem.PathToSubmol(mol, mol.GetSubstructMatch(Chem.MolFromSmarts('*-C(-[*])=O')))\n",
    "                chains.append(chain)\n",
    "    carbon_counts = {}\n",
    "    for chain in chains:\n",
    "        carbon_count = chain.GetNumAtoms() - 1\n",
    "        carbon_counts[carbon_count] = carbon_counts.get(carbon_count, 0) + 1\n",
    "    return carbon_counts\n"
   ]
  },
  {
   "cell_type": "code",
   "execution_count": 5,
   "id": "c70d1a65",
   "metadata": {},
   "outputs": [
    {
     "ename": "NameError",
     "evalue": "name 'carbon_counts' is not defined",
     "output_type": "error",
     "traceback": [
      "\u001b[0;31m---------------------------------------------------------------------------\u001b[0m",
      "\u001b[0;31mNameError\u001b[0m                                 Traceback (most recent call last)",
      "Cell \u001b[0;32mIn[5], line 1\u001b[0m\n\u001b[0;32m----> 1\u001b[0m \u001b[38;5;28mprint\u001b[39m (\u001b[43mcarbon_counts\u001b[49m)\n",
      "\u001b[0;31mNameError\u001b[0m: name 'carbon_counts' is not defined"
     ]
    }
   ],
   "source": [
    "print (carbon_counts)"
   ]
  },
  {
   "cell_type": "code",
   "execution_count": null,
   "id": "7d234eda",
   "metadata": {},
   "outputs": [],
   "source": []
  }
 ],
 "metadata": {
  "kernelspec": {
   "display_name": "Python 3 (ipykernel)",
   "language": "python",
   "name": "python3"
  },
  "language_info": {
   "codemirror_mode": {
    "name": "ipython",
    "version": 3
   },
   "file_extension": ".py",
   "mimetype": "text/x-python",
   "name": "python",
   "nbconvert_exporter": "python",
   "pygments_lexer": "ipython3",
   "version": "3.9.13"
  }
 },
 "nbformat": 4,
 "nbformat_minor": 5
}
